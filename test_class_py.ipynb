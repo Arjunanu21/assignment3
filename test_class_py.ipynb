{
  "nbformat": 4,
  "nbformat_minor": 0,
  "metadata": {
    "colab": {
      "provenance": []
    },
    "kernelspec": {
      "name": "python3",
      "display_name": "Python 3"
    },
    "language_info": {
      "name": "python"
    }
  },
  "cells": [
    {
      "cell_type": "code",
      "source": [
        "class rectangle:\n",
        "    def __init__(self,l,b):\n",
        "        self.l=l\n",
        "        self.b=b\n",
        "    def perimeter(self):\n",
        "        self.p=2*(self.l+self.b)\n",
        "        return(self.p)\n",
        "    def area(self):\n",
        "        self.a=self.l*self.b\n",
        "        return(self.a)"
      ],
      "metadata": {
        "id": "8muUpAev0JOe"
      },
      "execution_count": null,
      "outputs": []
    },
    {
      "cell_type": "code",
      "source": [],
      "metadata": {
        "id": "1vq_HLWR1O5K"
      },
      "execution_count": null,
      "outputs": []
    }
  ]
}