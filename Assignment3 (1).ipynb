{
  "nbformat": 4,
  "nbformat_minor": 0,
  "metadata": {
    "colab": {
      "provenance": []
    },
    "kernelspec": {
      "name": "python3",
      "display_name": "Python 3"
    },
    "language_info": {
      "name": "python"
    }
  },
  "cells": [
    {
      "cell_type": "code",
      "execution_count": null,
      "metadata": {
        "id": "_QVpyroHb7z5"
      },
      "outputs": [],
      "source": [
        "#1. Write a Python function to sum all the numbers in a list. (Create a list and get list elements from user)"
      ]
    },
    {
      "cell_type": "code",
      "source": [
        "def add(l):\n",
        "  result=0\n",
        "  for i in l:\n",
        "    result=result+i\n",
        "  return(result)\n",
        "\n",
        "\n",
        "l1=[]\n",
        "n=int(input('Enter the number of elements in the list: '))   \n",
        "for i in range(0,n):\n",
        "  x=int(input())   \n",
        "  l1.append(x)\n",
        "print(l1)\n",
        "print('Sum= ',add(l1))  "
      ],
      "metadata": {
        "id": "_pYDC_lEb_0T",
        "colab": {
          "base_uri": "https://localhost:8080/"
        },
        "outputId": "2731f61f-93fc-4d6a-d6d3-9b3aaef4be67"
      },
      "execution_count": null,
      "outputs": [
        {
          "output_type": "stream",
          "name": "stdout",
          "text": [
            "Enter the number of elements in the list: 5\n",
            "1\n",
            "2\n",
            "3\n",
            "4\n",
            "5\n",
            "[1, 2, 3, 4, 5]\n",
            "Sum=  15\n"
          ]
        }
      ]
    },
    {
      "cell_type": "code",
      "source": [
        "#2. Write a Python function that checks whether a passed string is palindrome or not."
      ],
      "metadata": {
        "id": "g9pZS_s1cAYJ"
      },
      "execution_count": null,
      "outputs": []
    },
    {
      "cell_type": "code",
      "source": [
        "def palin(s):\n",
        "  s=s.lower()\n",
        "  rev_s=s[::-1]\n",
        "  if s == rev_s:\n",
        "    print('Palindrome')\n",
        "  else:\n",
        "    print('Not palindrome')\n",
        "\n",
        "str=input('Enter the string: ')\n",
        "palin(str)"
      ],
      "metadata": {
        "colab": {
          "base_uri": "https://localhost:8080/"
        },
        "id": "jdaKsYSvPdSM",
        "outputId": "b1512cd5-d0bb-4253-f698-896f41928f03"
      },
      "execution_count": null,
      "outputs": [
        {
          "output_type": "stream",
          "name": "stdout",
          "text": [
            "Enter the string: Malayalam\n",
            "Palindrome\n"
          ]
        }
      ]
    },
    {
      "cell_type": "code",
      "source": [
        "#3. Write a Python recursive function to find the Fibonacci series. Get the limit from the user"
      ],
      "metadata": {
        "id": "Y3avVgQcPdff"
      },
      "execution_count": null,
      "outputs": []
    },
    {
      "cell_type": "code",
      "source": [
        "def fib(n):\n",
        "  if (n<=1):\n",
        "    return n\n",
        "  else:\n",
        "    return(fib(n-1)+fib(n-2))\n",
        "\n",
        "limit=int(input('Enter the limit: '))\n",
        "print('Fibonacci series: ',end=' ')\n",
        "for i in range(limit):\n",
        "  print(fib(i),end=' ')"
      ],
      "metadata": {
        "colab": {
          "base_uri": "https://localhost:8080/"
        },
        "id": "uAMHvPl1Pdrd",
        "outputId": "5d0ac9d6-3939-4897-fd5f-5963c7f22061"
      },
      "execution_count": null,
      "outputs": [
        {
          "output_type": "stream",
          "name": "stdout",
          "text": [
            "Enter the limit: 5\n",
            "Fibonacci series:  0 1 1 2 3 "
          ]
        }
      ]
    },
    {
      "cell_type": "code",
      "source": [
        "#4. Write a Python recursive function to print the multiplication table of given number"
      ],
      "metadata": {
        "id": "85bEOM_iPd0a"
      },
      "execution_count": null,
      "outputs": []
    },
    {
      "cell_type": "code",
      "source": [
        "def mul_table(n,i):\n",
        "  if i>10:\n",
        "    return\n",
        "  else:\n",
        "    print(n,'*',i,'= ',n*i)\n",
        "    i=i+1 \n",
        "    mul_table(n,i)\n",
        "\n",
        "num=int(input('Enter the number: '))     \n",
        "mul_table(num,1)"
      ],
      "metadata": {
        "colab": {
          "base_uri": "https://localhost:8080/"
        },
        "id": "GMMBshbOPd3i",
        "outputId": "f1ec4412-0b40-42a9-fbdc-82c614f9590f"
      },
      "execution_count": null,
      "outputs": [
        {
          "output_type": "stream",
          "name": "stdout",
          "text": [
            "Enter the number: 6\n",
            "6 * 1 =  6\n",
            "6 * 2 =  12\n",
            "6 * 3 =  18\n",
            "6 * 4 =  24\n",
            "6 * 5 =  30\n",
            "6 * 6 =  36\n",
            "6 * 7 =  42\n",
            "6 * 8 =  48\n",
            "6 * 9 =  54\n",
            "6 * 10 =  60\n"
          ]
        }
      ]
    },
    {
      "cell_type": "code",
      "source": [
        "#5. Define a function which counts vowels and consonant in a word."
      ],
      "metadata": {
        "id": "rRS6l1ZIPedW"
      },
      "execution_count": null,
      "outputs": []
    },
    {
      "cell_type": "code",
      "source": [
        "def count(str):\n",
        "  vowel_count=0\n",
        "  cons_count=0\n",
        "  str=str.lower()\n",
        "  for i in range(0,len(str)):\n",
        "    if str[i] in ('a','e','i','o','u'):\n",
        "      vowel_count+=1\n",
        "    else:\n",
        "      cons_count+=1\n",
        "  print('Number of vowels= ',vowel_count)\n",
        "  print('number of consonants= ',cons_count)\n",
        "s=input('Enter the string: ')\n",
        "count(s)          "
      ],
      "metadata": {
        "colab": {
          "base_uri": "https://localhost:8080/"
        },
        "id": "16soKIX6PXHf",
        "outputId": "802f8caa-7c9e-4736-da9b-8a984eb63d55"
      },
      "execution_count": null,
      "outputs": [
        {
          "output_type": "stream",
          "name": "stdout",
          "text": [
            "Enter the string: assignment\n",
            "Number of vowels=  3\n",
            "number of consonants=  7\n"
          ]
        }
      ]
    },
    {
      "cell_type": "code",
      "source": [
        "#6. Define a function that accepts lowercase words and returns uppercase words"
      ],
      "metadata": {
        "id": "TrFgmaQaPXW9"
      },
      "execution_count": null,
      "outputs": []
    },
    {
      "cell_type": "code",
      "source": [
        "def upper(str):\n",
        "  if str.islower():\n",
        "    print(str.upper())\n",
        "  else:\n",
        "    print('Function accepts only lower case words')\n",
        "\n",
        "s=input('Enter the string: ') \n",
        "upper(s)       "
      ],
      "metadata": {
        "id": "Kl1pvg9ScAaw",
        "colab": {
          "base_uri": "https://localhost:8080/"
        },
        "outputId": "467695d9-ad10-4186-9226-79387f216256"
      },
      "execution_count": null,
      "outputs": [
        {
          "output_type": "stream",
          "name": "stdout",
          "text": [
            "Enter the string: elephant\n",
            "ELEPHANT\n"
          ]
        }
      ]
    },
    {
      "cell_type": "code",
      "source": [
        "#7. Write a Python program to remove ‘None’ values from a given list using the lambda function.\n",
        "#Given input = [12, 0, None, 23, None, -55, 234, 89, None, 0, 6, -12]\n",
        "#Expected output = [12, 0, 23, -55, 234, 89, 0, 6, -12]"
      ],
      "metadata": {
        "id": "uS_gmyweT_EW"
      },
      "execution_count": null,
      "outputs": []
    },
    {
      "cell_type": "code",
      "source": [
        "def remove_none(l1):\n",
        "  final_list= list(filter(lambda x: x is not None,l1))\n",
        "  return(final_list)\n",
        "\n",
        "l=[12, 0, None, 23, None, -55, 234, 89, None, 0, 6, -12]\n",
        "print(l)\n",
        "print(remove_none(l))  \n",
        "\n"
      ],
      "metadata": {
        "colab": {
          "base_uri": "https://localhost:8080/"
        },
        "id": "co8Vee9oT_T9",
        "outputId": "8749525b-7b9b-4848-a695-13cd259beed4"
      },
      "execution_count": null,
      "outputs": [
        {
          "output_type": "stream",
          "name": "stdout",
          "text": [
            "[12, 0, None, 23, None, -55, 234, 89, None, 0, 6, -12]\n",
            "[12, 0, 23, -55, 234, 89, 0, 6, -12]\n"
          ]
        }
      ]
    },
    {
      "cell_type": "code",
      "source": [
        "#8. Write a Rectangle class in Python language, allowing you to build a rectangle with length and width attributes.\n",
        "#a. Create a Perimeter() method to calculate the perimeter of the rectangle and a Area() method to calculate the area of the rectangle.\n",
        "#b. Create a method display() that display the length, width, perimeter and area of an object created using an instantiation on rectangle class.\n",
        "#c. Create a Parallelepiped child class inheriting from the Rectangle class and with a height attribute and another Volume() method to calculate the volume of the Parallelepiped"
      ],
      "metadata": {
        "id": "ihV7NYLeT_jM"
      },
      "execution_count": null,
      "outputs": []
    },
    {
      "cell_type": "code",
      "source": [
        "class rectangle:\n",
        "    def __init__(self,l,b):\n",
        "        self.l=l\n",
        "        self.b=b\n",
        "    def perimeter(self):\n",
        "        self.p=2*(self.l+self.b)\n",
        "    def area(self):\n",
        "        self.a=self.l*self.b\n",
        "    def display(self):\n",
        "        print('Length= ',self.l)\n",
        "        print('Breadth= ',self.b)\n",
        "        print('Perimeter= ',self.p)\n",
        "        print('Area= ',self.a)\n",
        "class rect1(rectangle):\n",
        "    def __init__(self,h):\n",
        "        self.h=h\n",
        "    def volume(self):\n",
        "        print('Volume= ',r1.a*self.h)\n",
        "\n",
        "r1=rectangle(5,10) \n",
        "r1.perimeter()\n",
        "r1.area()\n",
        "r1.display()\n",
        "r2=rect1(6)\n",
        "r2.volume()"
      ],
      "metadata": {
        "colab": {
          "base_uri": "https://localhost:8080/"
        },
        "id": "8JiSNe0_cAeH",
        "outputId": "9c5f6ea8-48e6-4250-f0f3-78176c8c6fed"
      },
      "execution_count": null,
      "outputs": [
        {
          "output_type": "stream",
          "name": "stdout",
          "text": [
            "Length=  5\n",
            "Breadth=  10\n",
            "Perimeter=  30\n",
            "Area=  50\n",
            "Volume=  300\n"
          ]
        }
      ]
    },
    {
      "cell_type": "code",
      "source": [
        "#9. Create a Python class called BankAccount which represents a bank account, having as attributes: accountNumber (numeric type), name (name of the account owner as string type), balance.\n",
        "#a. Create a constructor with parameters: accountNumber, name, balance. b. Create a Deposit() method which manages the deposit actions. c. Create a Withdrawal() method which manages withdrawals actions.\n",
        "#d. Create an bankFees() method to apply the bank fees with a percentage of 5% of the balance account. e. Create a display() method to display account details. f. Give the complete code for the BankAccount class."
      ],
      "metadata": {
        "id": "1AWkwgIGcG2A"
      },
      "execution_count": null,
      "outputs": []
    },
    {
      "cell_type": "code",
      "source": [
        "class bankAccount:\n",
        "  def __init__(self,account_number,name,balance):\n",
        "    self.account_number=account_number\n",
        "    self.name=name\n",
        "    self.balance=balance\n",
        "  def deposit(self,d):\n",
        "    self.balance=self.balance+d\n",
        "  def withdrawal(self,w):\n",
        "    if(self.balance<w):\n",
        "      print('Insufficient Balance')\n",
        "    else:\n",
        "      self.balance=self.balance-w\n",
        "  def bankfees(self):\n",
        "    self.balance=(95/100)*self.balance\n",
        "  def display(self):\n",
        "    print('Account Number: ',self.account_number)\n",
        "    print('Account Name: ',self.name)\n",
        "    print('Account Balance: ',self.balance)\n",
        "\n",
        "\n",
        "\n",
        "my_account=bankAccount(8129679188,'Arjun',30000) \n",
        "my_account.deposit(5000)\n",
        "my_account.withdrawal(7500)\n",
        "my_account.display()"
      ],
      "metadata": {
        "id": "CcYlA6BoXRSL",
        "colab": {
          "base_uri": "https://localhost:8080/"
        },
        "outputId": "038a183f-4811-435b-a40c-a33143b6a144"
      },
      "execution_count": null,
      "outputs": [
        {
          "output_type": "stream",
          "name": "stdout",
          "text": [
            "Account Number:  8129679188\n",
            "Account Name:  Arjun\n",
            "Account Balance:  27500\n"
          ]
        }
      ]
    },
    {
      "cell_type": "code",
      "source": [
        "#10. Create a base class rectangle with attributes length and breadth, methods area and perimeter. a. Save the rectangle class as a python file rectangle.py file. b. Open another python script and import the rectangle.py file.\n",
        "#c. In the newly created script derive a child class called Parallelepiped class inheriting from the Rectangle class and with a height attribute and another Volume() method to calculate the volume of the Parallelepiped.\n",
        "#d. Now create objects for parent class and child class in newly created script and access methods of parent class and child class.\n",
        "#(Upload the rectangle.py file and python script of question 10 as separate files in github and share the link Paatshala)"
      ],
      "metadata": {
        "id": "KeUqfasXXRmu"
      },
      "execution_count": null,
      "outputs": []
    },
    {
      "cell_type": "code",
      "source": [
        "class rectangle:\n",
        "    def __init__(self,l,b):\n",
        "        self.l=l\n",
        "        self.b=b\n",
        "    def perimeter(self):\n",
        "        self.p=2*(self.l+self.b)\n",
        "        return(self.p)\n",
        "    def area(self):\n",
        "        self.a=self.l*self.b\n",
        "        return(self.a)\n",
        "class parallelepiped(rectangle):\n",
        "    def __init__(self,h,l,b):\n",
        "        self.h=h\n",
        "        self.l=l\n",
        "        self.b=b\n",
        "    def volume(self):\n",
        "        print('Volume= ',self.l*self.b*self.h)\n",
        "\n",
        "r1=rectangle(15,10) \n",
        "print('Perimeter= ',r1.perimeter())\n",
        "print('Area= ',r1.area())\n",
        "r2=parallelepiped(6,15,10)\n",
        "r2.volume()"
      ],
      "metadata": {
        "id": "Gr06X-hdXRqN",
        "colab": {
          "base_uri": "https://localhost:8080/"
        },
        "outputId": "a79b7cda-eb02-4574-d3ce-9c7b792a88d1"
      },
      "execution_count": null,
      "outputs": [
        {
          "output_type": "stream",
          "name": "stdout",
          "text": [
            "Perimeter=  50\n",
            "Area=  150\n",
            "Volume=  900\n"
          ]
        }
      ]
    },
    {
      "cell_type": "code",
      "source": [
        "from test_class import rectangle\n",
        "class parallelepiped(rectangle):\n",
        "    def __init__(self,h,l,b):\n",
        "        self.h=h\n",
        "        self.l=l\n",
        "        self.b=b\n",
        "    def volume(self):\n",
        "        print('Volume= ',self.l*self.b*self.h)\n",
        "\n",
        "r1=rectangle(15,10) \n",
        "print('Perimeter= ',r1.perimeter())\n",
        "print('Area= ',r1.area())\n",
        "r2=parallelepiped(6,15,10)\n",
        "r2.volume()\n"
      ],
      "metadata": {
        "id": "whtbRqEvcB5q",
        "colab": {
          "base_uri": "https://localhost:8080/",
          "height": 373
        },
        "outputId": "ee1b1e8c-2ee9-4015-c0af-0f97a6d5c724"
      },
      "execution_count": 2,
      "outputs": [
        {
          "output_type": "error",
          "ename": "ModuleNotFoundError",
          "evalue": "ignored",
          "traceback": [
            "\u001b[0;31m---------------------------------------------------------------------------\u001b[0m",
            "\u001b[0;31mModuleNotFoundError\u001b[0m                       Traceback (most recent call last)",
            "\u001b[0;32m<ipython-input-2-74027bd6f80e>\u001b[0m in \u001b[0;36m<module>\u001b[0;34m\u001b[0m\n\u001b[0;32m----> 1\u001b[0;31m \u001b[0;32mfrom\u001b[0m \u001b[0mtest_class\u001b[0m \u001b[0;32mimport\u001b[0m \u001b[0mrectangle\u001b[0m\u001b[0;34m\u001b[0m\u001b[0;34m\u001b[0m\u001b[0m\n\u001b[0m\u001b[1;32m      2\u001b[0m \u001b[0;32mclass\u001b[0m \u001b[0mparallelepiped\u001b[0m\u001b[0;34m(\u001b[0m\u001b[0mrectangle\u001b[0m\u001b[0;34m)\u001b[0m\u001b[0;34m:\u001b[0m\u001b[0;34m\u001b[0m\u001b[0;34m\u001b[0m\u001b[0m\n\u001b[1;32m      3\u001b[0m     \u001b[0;32mdef\u001b[0m \u001b[0m__init__\u001b[0m\u001b[0;34m(\u001b[0m\u001b[0mself\u001b[0m\u001b[0;34m,\u001b[0m\u001b[0mh\u001b[0m\u001b[0;34m,\u001b[0m\u001b[0ml\u001b[0m\u001b[0;34m,\u001b[0m\u001b[0mb\u001b[0m\u001b[0;34m)\u001b[0m\u001b[0;34m:\u001b[0m\u001b[0;34m\u001b[0m\u001b[0;34m\u001b[0m\u001b[0m\n\u001b[1;32m      4\u001b[0m         \u001b[0mself\u001b[0m\u001b[0;34m.\u001b[0m\u001b[0mh\u001b[0m\u001b[0;34m=\u001b[0m\u001b[0mh\u001b[0m\u001b[0;34m\u001b[0m\u001b[0;34m\u001b[0m\u001b[0m\n\u001b[1;32m      5\u001b[0m         \u001b[0mself\u001b[0m\u001b[0;34m.\u001b[0m\u001b[0ml\u001b[0m\u001b[0;34m=\u001b[0m\u001b[0ml\u001b[0m\u001b[0;34m\u001b[0m\u001b[0;34m\u001b[0m\u001b[0m\n",
            "\u001b[0;31mModuleNotFoundError\u001b[0m: No module named 'test_class'",
            "",
            "\u001b[0;31m---------------------------------------------------------------------------\u001b[0;32m\nNOTE: If your import is failing due to a missing package, you can\nmanually install dependencies using either !pip or !apt.\n\nTo view examples of installing some common dependencies, click the\n\"Open Examples\" button below.\n\u001b[0;31m---------------------------------------------------------------------------\u001b[0m\n"
          ],
          "errorDetails": {
            "actions": [
              {
                "action": "open_url",
                "actionText": "Open Examples",
                "url": "/notebooks/snippets/importing_libraries.ipynb"
              }
            ]
          }
        }
      ]
    },
    {
      "cell_type": "code",
      "source": [],
      "metadata": {
        "id": "gMdPU6AG-I_7"
      },
      "execution_count": null,
      "outputs": []
    }
  ]
}